{
 "cells": [
  {
   "cell_type": "code",
   "execution_count": 168,
   "id": "f724940d",
   "metadata": {},
   "outputs": [
    {
     "name": "stdout",
     "output_type": "stream",
     "text": [
      "Requirement already satisfied: tabulate in /Library/Frameworks/Python.framework/Versions/3.12/lib/python3.12/site-packages (0.9.0)\n",
      "\n",
      "\u001b[1m[\u001b[0m\u001b[34;49mnotice\u001b[0m\u001b[1;39;49m]\u001b[0m\u001b[39;49m A new release of pip is available: \u001b[0m\u001b[31;49m24.1.2\u001b[0m\u001b[39;49m -> \u001b[0m\u001b[32;49m25.0.1\u001b[0m\n",
      "\u001b[1m[\u001b[0m\u001b[34;49mnotice\u001b[0m\u001b[1;39;49m]\u001b[0m\u001b[39;49m To update, run: \u001b[0m\u001b[32;49mpip3 install --upgrade pip\u001b[0m\n",
      "Note: you may need to restart the kernel to use updated packages.\n"
     ]
    }
   ],
   "source": [
    "pip install tabulate"
   ]
  },
  {
   "cell_type": "code",
   "execution_count": 1,
   "id": "08e512c6",
   "metadata": {},
   "outputs": [],
   "source": [
    "import sqlite3\n",
    "import pandas as pd\n",
    "import os\n",
    "from tabulate import tabulate\n",
    "from datetime import datetime"
   ]
  },
  {
   "cell_type": "code",
   "execution_count": 2,
   "id": "7ad87065",
   "metadata": {},
   "outputs": [
    {
     "name": "stdout",
     "output_type": "stream",
     "text": [
      "Database connection successful: /Users/avinashmacbookair/Documents/TREND_Health_Partners_3/Healthcare_ETL_Project/db/healthcare_data.db\n"
     ]
    }
   ],
   "source": [
    "# Dynamically determine the base project root directory\n",
    "current_dir = os.getcwd()  # Current working directory (from which the notebook is run)\n",
    "project_root = os.path.abspath(os.path.join(current_dir, '..','Healthcare_ETL_Project'))\n",
    "\n",
    "# Dynamically locate the database path in the 'db' folder within the project root\n",
    "db_dir = os.path.join(project_root, \"db\")\n",
    "db_path = os.path.join(db_dir, \"healthcare_data.db\")\n",
    "\n",
    "# Ensure the database exists at the expected location\n",
    "if not os.path.exists(db_path):\n",
    "    raise FileNotFoundError(f\"Database not found at {db_path}\")\n",
    "\n",
    "# Connect to the SQLite database\n",
    "conn = sqlite3.connect(db_path)\n",
    "print(f\"Database connection successful: {db_path}\")\n"
   ]
  },
  {
   "cell_type": "code",
   "execution_count": 3,
   "id": "b8f1f2cc",
   "metadata": {},
   "outputs": [
    {
     "name": "stdout",
     "output_type": "stream",
     "text": [
      "+--------------+---------------+--------------+-------------+-----------------+-------------------+---------------------------------------+--------------+------------+--------------+\n",
      "|   Version_ID |   Provider_ID | First_Name   | Last_Name   |   Speciality_Id | Speciality_Name   | Affiliated_Hospital                   | Valid_From   | Valid_To   |   Is_Current |\n",
      "|--------------+---------------+--------------+-------------+-----------------+-------------------+---------------------------------------+--------------+------------+--------------|\n",
      "|            1 |             1 | Nandini      | Srivastava  |               8 | Radiology         | Mayo Clinic                           | 2025-04-29   |            |            1 |\n",
      "|            2 |             2 | Aashi        | Devi        |               1 | Cardiology        | Cleveland Clinic                      | 2025-04-29   |            |            1 |\n",
      "|            3 |             3 | Madhavi      | Ahluwalia   |              12 | Nephrology        | Johns Hopkins Hospital                | 2025-04-29   |            |            1 |\n",
      "|            4 |             4 | Priya        | Menon       |               9 | Psychiatry        | Massachusetts General Hospital        | 2025-04-29   |            |            1 |\n",
      "|            5 |             5 | Rudra        | Gandhi      |              11 | Urology           | Mount Sinai Hospital                  | 2025-04-29   |            |            1 |\n",
      "|            6 |             6 | Leela        | Jha         |               7 | Oncology          | St. Jude Children's Research Hospital | 2025-04-29   |            |            1 |\n",
      "|            7 |             7 | Pratibha     | Yadav       |               5 | Dermatology       | UCLA Medical Center                   | 2025-04-29   |            |            1 |\n",
      "|            8 |             8 | Sarika       | Zutshi      |               4 | Pediatrics        | Mayo Clinic                           | 2025-04-29   |            |            1 |\n",
      "+--------------+---------------+--------------+-------------+-----------------+-------------------+---------------------------------------+--------------+------------+--------------+\n"
     ]
    }
   ],
   "source": [
    "# Example query: Fetching data from TREATMENT table\n",
    "query = \"SELECT * FROM PROVIDER;\"  # Adjust query as needed\n",
    "df = pd.read_sql_query(query, conn)\n",
    "\n",
    "# Display the result as a nicely formatted table\n",
    "if not df.empty:\n",
    "    print(tabulate(df, headers='keys', tablefmt='psql', showindex=False))\n",
    "else:\n",
    "    print(\"No data returned from the query.\")"
   ]
  },
  {
   "cell_type": "code",
   "execution_count": 5,
   "id": "61342c29",
   "metadata": {},
   "outputs": [
    {
     "name": "stdout",
     "output_type": "stream",
     "text": [
      "+--------------+---------------+--------------+-------------+-----------------+-------------------+---------------------------------------+---------------------+---------------------+--------------+\n",
      "|   Version_ID |   Provider_ID | First_Name   | Last_Name   |   Speciality_Id | Speciality_Name   | Affiliated_Hospital                   | Valid_From          | Valid_To            |   Is_Current |\n",
      "|--------------+---------------+--------------+-------------+-----------------+-------------------+---------------------------------------+---------------------+---------------------+--------------|\n",
      "|            1 |             1 | Nandini      | Srivastava  |               8 | Radiology         | Mayo Clinic                           | 2025-04-29          |                     |            1 |\n",
      "|            2 |             2 | Aashi        | Devi        |               1 | Cardiology        | Cleveland Clinic                      | 2025-04-29          |                     |            1 |\n",
      "|            3 |             3 | Madhavi      | Ahluwalia   |              12 | Nephrology        | Johns Hopkins Hospital                | 2025-04-29          |                     |            1 |\n",
      "|            4 |             4 | Priya        | Menon       |               9 | Psychiatry        | Massachusetts General Hospital        | 2025-04-29          |                     |            1 |\n",
      "|            5 |             5 | Rudra        | Gandhi      |              11 | Urology           | Mount Sinai Hospital                  | 2025-04-29          | 2025-04-29 16:16:17 |            0 |\n",
      "|            6 |             6 | Leela        | Jha         |               7 | Oncology          | St. Jude Children's Research Hospital | 2025-04-29          | 2025-04-29 16:16:17 |            0 |\n",
      "|            7 |             7 | Pratibha     | Yadav       |               5 | Dermatology       | UCLA Medical Center                   | 2025-04-29          | 2025-04-29 16:16:17 |            0 |\n",
      "|            8 |             8 | Sarika       | Zutshi      |               4 | Pediatrics        | Mayo Clinic                           | 2025-04-29          | 2025-04-29 16:16:17 |            0 |\n",
      "|            9 |             5 | Rudra        | Gandhi      |              11 | Urology           | New York-Presbyterian Hospital        | 2025-04-29 16:16:17 |                     |            1 |\n",
      "|           10 |             6 | Leela        | Jha         |               7 | Oncology          | Cleveland Clinic                      | 2025-04-29 16:16:17 |                     |            1 |\n",
      "|           11 |             7 | Pratibha     | Yadav       |               5 | Dermatology       | Johns Hopkins Hospital                | 2025-04-29 16:16:17 |                     |            1 |\n",
      "|           12 |             8 | Sarika       | Zutshi      |               4 | Pediatrics        | Massachusetts General Hospital        | 2025-04-29 16:16:17 |                     |            1 |\n",
      "+--------------+---------------+--------------+-------------+-----------------+-------------------+---------------------------------------+---------------------+---------------------+--------------+\n"
     ]
    }
   ],
   "source": [
    "cursor = conn.cursor()\n",
    "\n",
    "cursor.execute(\"\"\"\n",
    "    UPDATE PROVIDER \n",
    "    SET Affiliated_Hospital = 'New York-Presbyterian Hospital'\n",
    "    WHERE Provider_ID = 5;\n",
    "\"\"\")\n",
    "\n",
    "cursor.execute(\"\"\"\n",
    "    UPDATE PROVIDER \n",
    "    SET Affiliated_Hospital = 'Cleveland Clinic'\n",
    "    WHERE Provider_ID = 6;\n",
    "\"\"\")\n",
    "\n",
    "cursor.execute(\"\"\"\n",
    "    UPDATE PROVIDER \n",
    "    SET Affiliated_Hospital = 'Johns Hopkins Hospital'\n",
    "    WHERE Provider_ID = 7;\n",
    "\"\"\")\n",
    "\n",
    "cursor.execute(\"\"\"\n",
    "    UPDATE PROVIDER \n",
    "    SET Affiliated_Hospital = 'Massachusetts General Hospital'\n",
    "    WHERE Provider_ID = 8;\n",
    "\"\"\")\n",
    "\n",
    "\n",
    "conn.commit()\n",
    "\n",
    "df = pd.read_sql_query(\"SELECT * FROM PROVIDER\", conn)\n",
    "print(tabulate(df, headers='keys', tablefmt='psql', showindex=False))\n"
   ]
  },
  {
   "cell_type": "code",
   "execution_count": 6,
   "id": "7d82ecec",
   "metadata": {},
   "outputs": [
    {
     "name": "stdout",
     "output_type": "stream",
     "text": [
      "+-----------------+\n",
      "|   Total_Records |\n",
      "|-----------------|\n",
      "|          350000 |\n",
      "+-----------------+\n"
     ]
    }
   ],
   "source": [
    "\n",
    "query = \"SELECT Count(*) AS Total_Records FROM TREATMENT LIMIT 10;\"  \n",
    "df = pd.read_sql_query(query, conn)\n",
    "\n",
    "if not df.empty:\n",
    "    print(tabulate(df, headers='keys', tablefmt='psql', showindex=False))\n",
    "else:\n",
    "    print(\"No data returned from the query.\")"
   ]
  },
  {
   "cell_type": "code",
   "execution_count": 44,
   "id": "b8e15fce",
   "metadata": {},
   "outputs": [
    {
     "name": "stdout",
     "output_type": "stream",
     "text": [
      "+-----------------+--------------------------+\n",
      "| Type            |   Avg_Treatment_Duration |\n",
      "|-----------------+--------------------------|\n",
      "| pharmacological |                  4.48511 |\n",
      "| preventive      |                  4.49862 |\n",
      "| surgical        |                  4.49565 |\n",
      "| therapeutic     |                  4.49916 |\n",
      "+-----------------+--------------------------+\n"
     ]
    }
   ],
   "source": [
    "# 1.Calculate the average treatment duration per treatment type\n",
    "query = \"\"\"\n",
    "WITH TreatmentSummary AS (\n",
    "    SELECT Type, \n",
    "           AVG(Treatment_Duration) AS Avg_Treatment_Duration\n",
    "    FROM TREATMENT\n",
    "    GROUP BY Type\n",
    ")\n",
    "SELECT * FROM TreatmentSummary;\n",
    "\"\"\"\n",
    "df = pd.read_sql_query(query, conn)\n",
    "\n",
    "if not df.empty:\n",
    "    print(tabulate(df, headers='keys', tablefmt='psql', showindex=False))\n",
    "else:\n",
    "    print(\"No data returned from the query.\")\n"
   ]
  },
  {
   "cell_type": "code",
   "execution_count": null,
   "id": "be29ee22",
   "metadata": {},
   "outputs": [
    {
     "name": "stdout",
     "output_type": "stream",
     "text": [
      "+---------------+\n",
      "| Outcome_Day   |\n",
      "|---------------|\n",
      "| Monday        |\n",
      "+---------------+\n"
     ]
    }
   ],
   "source": [
    "# 2.Find the most common outcome day of the week for treatments\n",
    "query = \"\"\"\n",
    "WITH TreatmentDays AS (\n",
    "    SELECT Outcome_Day, \n",
    "           COUNT(*) AS Frequency\n",
    "    FROM TREATMENT\n",
    "    GROUP BY Outcome_Day\n",
    ")\n",
    "SELECT Outcome_Day\n",
    "FROM TreatmentDays\n",
    "ORDER BY Frequency DESC\n",
    "LIMIT 1;\n",
    "\"\"\"\n",
    "df = pd.read_sql_query(query, conn)\n",
    "\n",
    "if not df.empty:\n",
    "    print(tabulate(df, headers='keys', tablefmt='psql', showindex=False))\n",
    "else:\n",
    "    print(\"No data returned from the query.\")\n"
   ]
  },
  {
   "cell_type": "code",
   "execution_count": 48,
   "id": "d487b77b",
   "metadata": {},
   "outputs": [
    {
     "name": "stdout",
     "output_type": "stream",
     "text": [
      "+---------------+-------------------+------------+\n",
      "|   Provider_ID |   Treatment_Count |   Avg_Cost |\n",
      "|---------------+-------------------+------------|\n",
      "|             1 |             46720 |    29701.8 |\n",
      "|             2 |             46793 |    29642.4 |\n",
      "|             3 |             46412 |    29700   |\n",
      "|             4 |             46719 |    29750   |\n",
      "|             5 |             46635 |    29707.4 |\n",
      "|             6 |             46521 |    29658.9 |\n",
      "|             7 |             46887 |    29715.4 |\n",
      "|             8 |             23313 |    29529.2 |\n",
      "+---------------+-------------------+------------+\n"
     ]
    }
   ],
   "source": [
    "# 3.Total number of treatments and the average treatment cost for each provider\n",
    "query = \"\"\"\n",
    "WITH ProviderTreatmentStats AS (\n",
    "    SELECT Provider_ID, \n",
    "           COUNT(*) AS Treatment_Count, \n",
    "           AVG(Cost) AS Avg_Cost\n",
    "    FROM TREATMENT\n",
    "    GROUP BY Provider_ID\n",
    ")\n",
    "SELECT * FROM ProviderTreatmentStats;\n",
    "\"\"\"\n",
    "df = pd.read_sql_query(query, conn)\n",
    "\n",
    "if not df.empty:\n",
    "    print(tabulate(df, headers='keys', tablefmt='psql', showindex=False))\n",
    "else:\n",
    "    print(\"No data returned from the query.\")\n"
   ]
  },
  {
   "cell_type": "code",
   "execution_count": 49,
   "id": "a1f82d8f",
   "metadata": {},
   "outputs": [
    {
     "name": "stdout",
     "output_type": "stream",
     "text": [
      "+--------+---------+----------------+\n",
      "|   Year |   Month | Average_Cost   |\n",
      "|--------+---------+----------------|\n",
      "|   2024 |      01 | 29,672.92      |\n",
      "|   2024 |      02 | 29,696.48      |\n",
      "|   2024 |      03 | 29,666.31      |\n",
      "|   2024 |      04 | 29,765.95      |\n",
      "|   2024 |      05 | 29,646.44      |\n",
      "|   2024 |      06 | 29,716.85      |\n",
      "|   2024 |      07 | 29,516.85      |\n",
      "+--------+---------+----------------+\n"
     ]
    }
   ],
   "source": [
    "# 4.Calculate average cost per month\n",
    "query = \"\"\"\n",
    "WITH MonthlyCost AS (\n",
    "    SELECT \n",
    "        strftime('%Y', Outcome_Date) AS Year,\n",
    "        strftime('%m', Outcome_Date) AS Month,\n",
    "        AVG(Cost) AS Average_Cost\n",
    "    FROM TREATMENT\n",
    "    WHERE Year IN ('2024', '2025')\n",
    "    GROUP BY Year, Month\n",
    "    ORDER BY Year, Month\n",
    ")\n",
    "SELECT * FROM MonthlyCost;\n",
    "\"\"\"\n",
    "\n",
    "df = pd.read_sql_query(query, conn)\n",
    "\n",
    "# Format the Average_Cost column to show full precision with commas\n",
    "df['Average_Cost'] = df['Average_Cost'].apply(lambda x: '{:,.2f}'.format(x))\n",
    "\n",
    "if not df.empty:\n",
    "    print(tabulate(df, headers='keys', tablefmt='psql', showindex=False))\n",
    "else:\n",
    "    print(\"No data returned from the query.\")\n"
   ]
  },
  {
   "cell_type": "code",
   "execution_count": 7,
   "id": "0c9921dc",
   "metadata": {},
   "outputs": [
    {
     "name": "stdout",
     "output_type": "stream",
     "text": [
      "+----------------------------+\n",
      "|   doctors_changed_hospital |\n",
      "|----------------------------|\n",
      "|                          4 |\n",
      "+----------------------------+\n"
     ]
    }
   ],
   "source": [
    "\n",
    "# 5.How many doctors have changed their affiliated hospital in the last 6 months\n",
    "query = \"\"\"\n",
    "SELECT COUNT(DISTINCT p.Provider_ID) AS doctors_changed_hospital\n",
    "FROM (\n",
    "    SELECT Provider_ID\n",
    "    FROM PROVIDER\n",
    "    GROUP BY Provider_ID\n",
    "    HAVING COUNT(DISTINCT Affiliated_Hospital) > 1\n",
    ") AS changed_providers\n",
    "JOIN PROVIDER p ON changed_providers.Provider_ID = p.Provider_ID\n",
    "WHERE p.Valid_From >= date('now', '-6 months');\n",
    "\"\"\"\n",
    "\n",
    "df = pd.read_sql_query(query, conn)\n",
    "\n",
    "if not df.empty:\n",
    "    print(tabulate(df, headers='keys', tablefmt='psql', showindex=False))\n",
    "else:\n",
    "    print(\"No data returned from the query.\")\n"
   ]
  },
  {
   "cell_type": "code",
   "execution_count": 8,
   "id": "db9636c0",
   "metadata": {},
   "outputs": [
    {
     "name": "stdout",
     "output_type": "stream",
     "text": [
      "+---------------+--------------+-------------+\n",
      "|   Provider_ID | First_Name   | Last_Name   |\n",
      "|---------------+--------------+-------------|\n",
      "|             5 | Rudra        | Gandhi      |\n",
      "|             6 | Leela        | Jha         |\n",
      "|             7 | Pratibha     | Yadav       |\n",
      "|             8 | Sarika       | Zutshi      |\n",
      "+---------------+--------------+-------------+\n"
     ]
    }
   ],
   "source": [
    "\n",
    "# 6.Details of doctors have changed their affiliated hospital in the last 6 months\n",
    "query = \"\"\"\n",
    "SELECT DISTINCT p.Provider_ID, p.First_Name, p.Last_Name\n",
    "FROM (\n",
    "    SELECT Provider_ID\n",
    "    FROM PROVIDER\n",
    "    GROUP BY Provider_ID\n",
    "    HAVING COUNT(DISTINCT Affiliated_Hospital) > 1\n",
    ") AS changed_providers\n",
    "JOIN PROVIDER p ON changed_providers.Provider_ID = p.Provider_ID\n",
    "WHERE p.Valid_From >= date('now', '-6 months');\n",
    "\"\"\"\n",
    "\n",
    "df = pd.read_sql_query(query, conn)\n",
    "\n",
    "if not df.empty:\n",
    "    print(tabulate(df, headers='keys', tablefmt='psql', showindex=False))\n",
    "else:\n",
    "    print(\"No data returned from the query.\")\n"
   ]
  },
  {
   "cell_type": "code",
   "execution_count": null,
   "id": "dd06725a",
   "metadata": {},
   "outputs": [
    {
     "name": "stdout",
     "output_type": "stream",
     "text": [
      "+---------------+---------------------+\n",
      "|   Provider_ID |   Avg_effectiveness |\n",
      "|---------------+---------------------|\n",
      "|             5 |             2.51221 |\n",
      "|            10 |             2.51156 |\n",
      "|            12 |             2.50496 |\n",
      "|             1 |             2.50468 |\n",
      "|            13 |             2.50292 |\n",
      "+---------------+---------------------+\n"
     ]
    }
   ],
   "source": [
    "\n",
    "# 7.Top 5 Providers with Highest Treatment Effectiveness\n",
    "query = \"\"\"\n",
    "SELECT Provider_ID, AVG(Effectiveness_Score) AS Avg_effectiveness\n",
    "FROM TREATMENT\n",
    "GROUP BY Provider_ID\n",
    "ORDER BY avg_effectiveness DESC\n",
    "LIMIT 5;\n",
    "\"\"\"\n",
    "\n",
    "df = pd.read_sql_query(query, conn)\n",
    "\n",
    "if not df.empty:\n",
    "    print(tabulate(df, headers='keys', tablefmt='psql', showindex=False))\n",
    "else:\n",
    "    print(\"No data returned from the query.\")\n"
   ]
  },
  {
   "cell_type": "code",
   "execution_count": null,
   "id": "4c4f113b",
   "metadata": {},
   "outputs": [
    {
     "name": "stdout",
     "output_type": "stream",
     "text": [
      "+--------------+---------------------------+\n",
      "|   Disease_ID |   Avg_Effectiveness_Score |\n",
      "|--------------+---------------------------|\n",
      "|            1 |                   2.52023 |\n",
      "|            2 |                   2.46752 |\n",
      "|            3 |                   2.49717 |\n",
      "|            4 |                   2.52146 |\n",
      "|            5 |                   2.48843 |\n",
      "|           16 |                   2.4925  |\n",
      "|           17 |                   2.50139 |\n",
      "|           18 |                   2.51407 |\n",
      "|           19 |                   2.50972 |\n",
      "|           20 |                   2.47337 |\n",
      "|           21 |                   2.52607 |\n",
      "|           22 |                   2.52652 |\n",
      "|           23 |                   2.47625 |\n",
      "|           24 |                   2.5005  |\n",
      "|           25 |                   2.46881 |\n",
      "|           26 |                   2.5102  |\n",
      "|           27 |                   2.51076 |\n",
      "|           28 |                   2.47    |\n",
      "|           29 |                   2.47402 |\n",
      "|           30 |                   2.48418 |\n",
      "|           31 |                   2.46791 |\n",
      "|           32 |                   2.49118 |\n",
      "|           33 |                   2.50146 |\n",
      "|           34 |                   2.5156  |\n",
      "|           35 |                   2.52464 |\n",
      "|           36 |                   2.50418 |\n",
      "|           37 |                   2.49627 |\n",
      "|           38 |                   2.49868 |\n",
      "|           39 |                   2.49563 |\n",
      "|           40 |                   2.52923 |\n",
      "|           41 |                   2.49895 |\n",
      "|           42 |                   2.50133 |\n",
      "|           43 |                   2.49425 |\n",
      "|           44 |                   2.49766 |\n",
      "|           45 |                   2.47029 |\n",
      "|           51 |                   2.50514 |\n",
      "|           52 |                   2.50508 |\n",
      "|           53 |                   2.50672 |\n",
      "|           54 |                   2.5099  |\n",
      "|           55 |                   2.53242 |\n",
      "|           56 |                   2.47633 |\n",
      "|           57 |                   2.51487 |\n",
      "|           58 |                   2.47352 |\n",
      "|           59 |                   2.51958 |\n",
      "|           60 |                   2.49935 |\n",
      "|           61 |                   2.50662 |\n",
      "|           62 |                   2.47219 |\n",
      "|           63 |                   2.53975 |\n",
      "|           64 |                   2.45253 |\n",
      "|           65 |                   2.4954  |\n",
      "|           66 |                   2.48681 |\n",
      "|           67 |                   2.45682 |\n",
      "|           68 |                   2.51935 |\n",
      "|           69 |                   2.54296 |\n",
      "|           70 |                   2.50938 |\n",
      "|           71 |                   2.45172 |\n",
      "|           72 |                   2.51103 |\n",
      "|           73 |                   2.49082 |\n",
      "|           74 |                   2.52277 |\n",
      "|           75 |                   2.5024  |\n",
      "+--------------+---------------------------+\n"
     ]
    }
   ],
   "source": [
    "# 8.Calculate the effectiveness score for treatments by disease\n",
    "query = \"\"\"\n",
    "WITH EffectivenessByDisease AS (\n",
    "    SELECT Disease_ID, \n",
    "           AVG(Effectiveness_Score) AS Avg_Effectiveness_Score\n",
    "    FROM TREATMENT\n",
    "    WHERE Effectiveness_Score IS NOT NULL\n",
    "    GROUP BY Disease_ID\n",
    ")\n",
    "SELECT * FROM EffectivenessByDisease;\n",
    "\"\"\"\n",
    "df = pd.read_sql_query(query, conn)\n",
    "\n",
    "if not df.empty:\n",
    "    print(tabulate(df, headers='keys', tablefmt='psql', showindex=False))\n",
    "else:\n",
    "    print(\"No data returned from the query.\")\n"
   ]
  },
  {
   "cell_type": "code",
   "execution_count": null,
   "id": "5b906769",
   "metadata": {},
   "outputs": [
    {
     "name": "stdout",
     "output_type": "stream",
     "text": [
      "+----------------+-------------------+------------------+\n",
      "|   Outcome_Year |   Outcome_Quarter | Total_Cost       |\n",
      "|----------------+-------------------+------------------|\n",
      "|           2024 |                 1 | 4,667,369,635.31 |\n",
      "|           2024 |                 2 | 5,185,229,884.95 |\n",
      "|           2024 |                 3 | 5,238,164,852.77 |\n",
      "|           2024 |                 4 | 5,244,743,843.22 |\n",
      "|           2025 |                 1 | 455,790,336.80   |\n",
      "+----------------+-------------------+------------------+\n"
     ]
    }
   ],
   "source": [
    "# 9.Determine the total cost of treatments by outcome quarter and year\n",
    "query = \"\"\"\n",
    "WITH CostSummary AS (\n",
    "    SELECT \n",
    "        strftime('%Y', Outcome_Date) AS Outcome_Year,\n",
    "        Outcome_Quarter, \n",
    "        SUM(Cost) AS Total_Cost\n",
    "    FROM TREATMENT\n",
    "    GROUP BY Outcome_Year, Outcome_Quarter\n",
    ")\n",
    "SELECT * FROM CostSummary;\n",
    "\"\"\"\n",
    "df = pd.read_sql_query(query, conn)\n",
    "\n",
    "# Set pandas options to avoid scientific notation globally\n",
    "pd.set_option('display.float_format', lambda x: '%.2f' % x)\n",
    "\n",
    "# Apply formatting to the Total_Cost column if needed\n",
    "df['Total_Cost'] = df['Total_Cost'].apply(lambda x: '{:,.2f}'.format(x))\n",
    "\n",
    "if not df.empty:\n",
    "    print(tabulate(df, headers='keys', tablefmt='psql', showindex=False))\n",
    "else:\n",
    "    print(\"No data returned from the query.\")\n"
   ]
  },
  {
   "cell_type": "code",
   "execution_count": null,
   "id": "5a16577d",
   "metadata": {},
   "outputs": [],
   "source": [
    "conn.close() "
   ]
  }
 ],
 "metadata": {
  "kernelspec": {
   "display_name": "Python 3",
   "language": "python",
   "name": "python3"
  },
  "language_info": {
   "codemirror_mode": {
    "name": "ipython",
    "version": 3
   },
   "file_extension": ".py",
   "mimetype": "text/x-python",
   "name": "python",
   "nbconvert_exporter": "python",
   "pygments_lexer": "ipython3",
   "version": "3.12.4"
  }
 },
 "nbformat": 4,
 "nbformat_minor": 5
}

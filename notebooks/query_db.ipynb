{
 "cells": [
  {
   "cell_type": "code",
   "execution_count": 168,
   "id": "f724940d",
   "metadata": {},
   "outputs": [
    {
     "name": "stdout",
     "output_type": "stream",
     "text": [
      "Requirement already satisfied: tabulate in /Library/Frameworks/Python.framework/Versions/3.12/lib/python3.12/site-packages (0.9.0)\n",
      "\n",
      "\u001b[1m[\u001b[0m\u001b[34;49mnotice\u001b[0m\u001b[1;39;49m]\u001b[0m\u001b[39;49m A new release of pip is available: \u001b[0m\u001b[31;49m24.1.2\u001b[0m\u001b[39;49m -> \u001b[0m\u001b[32;49m25.0.1\u001b[0m\n",
      "\u001b[1m[\u001b[0m\u001b[34;49mnotice\u001b[0m\u001b[1;39;49m]\u001b[0m\u001b[39;49m To update, run: \u001b[0m\u001b[32;49mpip3 install --upgrade pip\u001b[0m\n",
      "Note: you may need to restart the kernel to use updated packages.\n"
     ]
    }
   ],
   "source": [
    "pip install tabulate"
   ]
  },
  {
   "cell_type": "code",
   "execution_count": 32,
   "id": "08e512c6",
   "metadata": {},
   "outputs": [],
   "source": [
    "import sqlite3\n",
    "import pandas as pd\n",
    "import os\n",
    "from tabulate import tabulate\n",
    "from datetime import datetime"
   ]
  },
  {
   "cell_type": "code",
   "execution_count": 33,
   "id": "7ad87065",
   "metadata": {},
   "outputs": [
    {
     "name": "stdout",
     "output_type": "stream",
     "text": [
      "Database connection successful: /Users/avinashmacbookair/Documents/TREND Health Partners 2/Healthcare_ETL_Project/db/healthcare_data.db\n"
     ]
    }
   ],
   "source": [
    "# Dynamically determine the base project root directory\n",
    "current_dir = os.getcwd()  # Current working directory (from which the notebook is run)\n",
    "project_root = os.path.abspath(os.path.join(current_dir, '..','Healthcare_ETL_Project'))\n",
    "\n",
    "# Dynamically locate the database path in the 'db' folder within the project root\n",
    "db_dir = os.path.join(project_root, \"db\")\n",
    "db_path = os.path.join(db_dir, \"healthcare_data.db\")\n",
    "\n",
    "# Ensure the database exists at the expected location\n",
    "if not os.path.exists(db_path):\n",
    "    raise FileNotFoundError(f\"Database not found at {db_path}\")\n",
    "\n",
    "# Connect to the SQLite database\n",
    "conn = sqlite3.connect(db_path)\n",
    "print(f\"Database connection successful: {db_path}\")\n"
   ]
  },
  {
   "cell_type": "code",
   "execution_count": 34,
   "id": "b8f1f2cc",
   "metadata": {},
   "outputs": [
    {
     "name": "stdout",
     "output_type": "stream",
     "text": [
      "+--------------+---------------+--------------+-------------+-----------------+-------------------+---------------------------------------+--------------+------------+--------------+\n",
      "|   Version_ID |   Provider_ID | First_Name   | Last_Name   |   Speciality_Id | Speciality_Name   | Affiliated_Hospital                   | Valid_From   | Valid_To   |   Is_Current |\n",
      "|--------------+---------------+--------------+-------------+-----------------+-------------------+---------------------------------------+--------------+------------+--------------|\n",
      "|            1 |             1 | Nandini      | Srivastava  |               8 | Radiology         | Mayo Clinic                           | 2025-04-27   |            |            1 |\n",
      "|            2 |             2 | Aashi        | Devi        |               1 | Cardiology        | Cleveland Clinic                      | 2025-04-27   |            |            1 |\n",
      "|            3 |             3 | Madhavi      | Ahluwalia   |              12 | Nephrology        | Johns Hopkins Hospital                | 2025-04-27   |            |            1 |\n",
      "|            4 |             4 | Priya        | Menon       |               9 | Psychiatry        | Massachusetts General Hospital        | 2025-04-27   |            |            1 |\n",
      "|            5 |             5 | Rudra        | Gandhi      |              11 | Urology           | Mount Sinai Hospital                  | 2025-04-27   |            |            1 |\n",
      "|            6 |             6 | Leela        | Jha         |               7 | Oncology          | St. Jude Children's Research Hospital | 2025-04-27   |            |            1 |\n",
      "|            7 |             7 | Pratibha     | Yadav       |               5 | Dermatology       | UCLA Medical Center                   | 2025-04-27   |            |            1 |\n",
      "|            8 |             8 | Sarika       | Zutshi      |               4 | Pediatrics        | Mayo Clinic                           | 2025-04-27   |            |            1 |\n",
      "+--------------+---------------+--------------+-------------+-----------------+-------------------+---------------------------------------+--------------+------------+--------------+\n"
     ]
    }
   ],
   "source": [
    "# Example query: Fetching data from TREATMENT table\n",
    "query = \"SELECT * FROM PROVIDER;\"  # Adjust query as needed\n",
    "df = pd.read_sql_query(query, conn)\n",
    "\n",
    "# Display the result as a nicely formatted table\n",
    "if not df.empty:\n",
    "    print(tabulate(df, headers='keys', tablefmt='psql', showindex=False))\n",
    "else:\n",
    "    print(\"No data returned from the query.\")"
   ]
  },
  {
   "cell_type": "code",
   "execution_count": 13,
   "id": "61342c29",
   "metadata": {},
   "outputs": [
    {
     "name": "stdout",
     "output_type": "stream",
     "text": [
      "+--------------+---------------+--------------+-------------+-----------------+-------------------+-----------------------+---------------------+---------------------+--------------+\n",
      "|   Version_ID |   Provider_ID | First_Name   | Last_Name   |   Speciality_Id | Speciality_Name   | Affiliated_Hospital   | Valid_From          | Valid_To            |   Is_Current |\n",
      "|--------------+---------------+--------------+-------------+-----------------+-------------------+-----------------------+---------------------+---------------------+--------------|\n",
      "|            1 |             1 | Nandini      | Srivastava  |               8 | Radiology         | Mayo Clinic           | 2025-04-26          | 2025-04-27 12:20:26 |            0 |\n",
      "|           10 |             1 | Nandini      | Srivastava  |               8 | Radiology         | Stark Hospitals       | 2025-04-27 12:20:26 |                     |            1 |\n",
      "+--------------+---------------+--------------+-------------+-----------------+-------------------+-----------------------+---------------------+---------------------+--------------+\n"
     ]
    }
   ],
   "source": [
    "cursor = conn.cursor()\n",
    "\n",
    "cursor.execute(\"\"\"\n",
    "UPDATE PROVIDER\n",
    "SET Affiliated_Hospital = 'Stark Hospitals'\n",
    "WHERE Provider_ID = 1 AND Is_Current = 1\n",
    "\"\"\")\n",
    "#cursor.execute(update_query)\n",
    "conn.commit()\n",
    "\n",
    "df = pd.read_sql_query(\"SELECT * FROM PROVIDER WHERE Provider_ID = 1\", conn)\n",
    "print(tabulate(df, headers='keys', tablefmt='psql', showindex=False))\n"
   ]
  },
  {
   "cell_type": "code",
   "execution_count": 15,
   "id": "7d82ecec",
   "metadata": {},
   "outputs": [
    {
     "name": "stdout",
     "output_type": "stream",
     "text": [
      "+-----------------+\n",
      "|   Total_Records |\n",
      "|-----------------|\n",
      "|          350000 |\n",
      "+-----------------+\n"
     ]
    }
   ],
   "source": [
    "\n",
    "query = \"SELECT Count(*) AS Total_Records FROM TREATMENT LIMIT 10;\"  # Adjust query as needed\n",
    "df = pd.read_sql_query(query, conn)\n",
    "\n",
    "# Display the result as a nicely formatted table\n",
    "if not df.empty:\n",
    "    print(tabulate(df, headers='keys', tablefmt='psql', showindex=False))\n",
    "else:\n",
    "    print(\"No data returned from the query.\")"
   ]
  },
  {
   "cell_type": "code",
   "execution_count": 17,
   "id": "b8e15fce",
   "metadata": {},
   "outputs": [
    {
     "name": "stdout",
     "output_type": "stream",
     "text": [
      "+-----------------+--------------------------+\n",
      "| Type            |   Avg_Treatment_Duration |\n",
      "|-----------------+--------------------------|\n",
      "| pharmacological |                  4.48511 |\n",
      "| preventive      |                  4.49862 |\n",
      "| surgical        |                  4.49565 |\n",
      "| therapeutic     |                  4.49916 |\n",
      "+-----------------+--------------------------+\n"
     ]
    }
   ],
   "source": [
    "# Calculate the average treatment duration per treatment type\n",
    "query = \"\"\"\n",
    "WITH TreatmentSummary AS (\n",
    "    SELECT Type, \n",
    "           AVG(Treatment_Duration) AS Avg_Treatment_Duration\n",
    "    FROM TREATMENT\n",
    "    GROUP BY Type\n",
    ")\n",
    "SELECT * FROM TreatmentSummary;\n",
    "\"\"\"\n",
    "df = pd.read_sql_query(query, conn)\n",
    "\n",
    "# Display the result as a nicely formatted table\n",
    "if not df.empty:\n",
    "    print(tabulate(df, headers='keys', tablefmt='psql', showindex=False))\n",
    "else:\n",
    "    print(\"No data returned from the query.\")\n"
   ]
  },
  {
   "cell_type": "code",
   "execution_count": 18,
   "id": "a1001390",
   "metadata": {},
   "outputs": [
    {
     "name": "stdout",
     "output_type": "stream",
     "text": [
      "+----------------+-------------------+------------------+\n",
      "|   Outcome_Year |   Outcome_Quarter | Total_Cost       |\n",
      "|----------------+-------------------+------------------|\n",
      "|           2024 |                 1 | 4,667,369,635.31 |\n",
      "|           2024 |                 2 | 5,185,229,884.95 |\n",
      "|           2024 |                 3 | 537,295,281.94   |\n",
      "+----------------+-------------------+------------------+\n"
     ]
    }
   ],
   "source": [
    "# Determine the total cost of treatments by outcome quarter and year\n",
    "query = \"\"\"\n",
    "WITH CostSummary AS (\n",
    "    SELECT \n",
    "        strftime('%Y', Outcome_Date) AS Outcome_Year,\n",
    "        Outcome_Quarter, \n",
    "        SUM(Cost) AS Total_Cost\n",
    "    FROM TREATMENT\n",
    "    GROUP BY Outcome_Year, Outcome_Quarter\n",
    ")\n",
    "SELECT * FROM CostSummary;\n",
    "\"\"\"\n",
    "df = pd.read_sql_query(query, conn)\n",
    "\n",
    "# Set pandas options to avoid scientific notation globally\n",
    "pd.set_option('display.float_format', lambda x: '%.2f' % x)\n",
    "\n",
    "# Apply formatting to the Total_Cost column if needed\n",
    "df['Total_Cost'] = df['Total_Cost'].apply(lambda x: '{:,.2f}'.format(x))\n",
    "\n",
    "# Display the result as a nicely formatted table\n",
    "if not df.empty:\n",
    "    print(tabulate(df, headers='keys', tablefmt='psql', showindex=False))\n",
    "else:\n",
    "    print(\"No data returned from the query.\")\n"
   ]
  },
  {
   "cell_type": "code",
   "execution_count": 19,
   "id": "be29ee22",
   "metadata": {},
   "outputs": [
    {
     "name": "stdout",
     "output_type": "stream",
     "text": [
      "+---------------+\n",
      "| Outcome_Day   |\n",
      "|---------------|\n",
      "| Monday        |\n",
      "+---------------+\n"
     ]
    }
   ],
   "source": [
    "# Find the most common day of the week for treatments\n",
    "query = \"\"\"\n",
    "WITH TreatmentDays AS (\n",
    "    SELECT Outcome_Day, \n",
    "           COUNT(*) AS Frequency\n",
    "    FROM TREATMENT\n",
    "    GROUP BY Outcome_Day\n",
    ")\n",
    "SELECT Outcome_Day\n",
    "FROM TreatmentDays\n",
    "ORDER BY Frequency DESC\n",
    "LIMIT 1;\n",
    "\"\"\"\n",
    "df = pd.read_sql_query(query, conn)\n",
    "\n",
    "# Display the result as a nicely formatted table\n",
    "if not df.empty:\n",
    "    print(tabulate(df, headers='keys', tablefmt='psql', showindex=False))\n",
    "else:\n",
    "    print(\"No data returned from the query.\")\n"
   ]
  },
  {
   "cell_type": "code",
   "execution_count": 20,
   "id": "754dfbf9",
   "metadata": {},
   "outputs": [
    {
     "name": "stdout",
     "output_type": "stream",
     "text": [
      "+--------------+---------------------------+\n",
      "|   Disease_ID |   Avg_Effectiveness_Score |\n",
      "|--------------+---------------------------|\n",
      "|            1 |                   2.52023 |\n",
      "|            2 |                   2.46752 |\n",
      "|            3 |                   2.49717 |\n",
      "|            4 |                   2.52146 |\n",
      "|            5 |                   2.48843 |\n",
      "|           16 |                   2.48356 |\n",
      "|           17 |                   2.5247  |\n",
      "|           18 |                   2.50669 |\n",
      "|           19 |                   2.48955 |\n",
      "|           20 |                   2.46616 |\n",
      "|           21 |                   2.52607 |\n",
      "|           22 |                   2.52652 |\n",
      "|           23 |                   2.47625 |\n",
      "|           24 |                   2.5005  |\n",
      "|           25 |                   2.46881 |\n",
      "|           31 |                   2.46791 |\n",
      "|           32 |                   2.49118 |\n",
      "|           33 |                   2.50146 |\n",
      "|           34 |                   2.5156  |\n",
      "|           35 |                   2.52464 |\n",
      "|           36 |                   2.49563 |\n",
      "|           37 |                   2.49686 |\n",
      "|           38 |                   2.50466 |\n",
      "|           39 |                   2.50726 |\n",
      "|           40 |                   2.51927 |\n",
      "|           41 |                   2.49895 |\n",
      "|           42 |                   2.50133 |\n",
      "|           43 |                   2.49425 |\n",
      "|           44 |                   2.49766 |\n",
      "|           45 |                   2.47029 |\n",
      "|           51 |                   2.51608 |\n",
      "|           52 |                   2.50504 |\n",
      "|           53 |                   2.47558 |\n",
      "|           54 |                   2.51615 |\n",
      "|           55 |                   2.54726 |\n",
      "|           56 |                   2.46625 |\n",
      "|           57 |                   2.52472 |\n",
      "|           58 |                   2.44885 |\n",
      "|           59 |                   2.53775 |\n",
      "|           60 |                   2.50051 |\n",
      "+--------------+---------------------------+\n"
     ]
    }
   ],
   "source": [
    "# Calculate the effectiveness score for treatments by disease\n",
    "query = \"\"\"\n",
    "WITH EffectivenessByDisease AS (\n",
    "    SELECT Disease_ID, \n",
    "           AVG(Effectiveness_Score) AS Avg_Effectiveness_Score\n",
    "    FROM TREATMENT\n",
    "    WHERE Effectiveness_Score IS NOT NULL\n",
    "    GROUP BY Disease_ID\n",
    ")\n",
    "SELECT * FROM EffectivenessByDisease;\n",
    "\"\"\"\n",
    "df = pd.read_sql_query(query, conn)\n",
    "\n",
    "# Display the result as a nicely formatted table\n",
    "if not df.empty:\n",
    "    print(tabulate(df, headers='keys', tablefmt='psql', showindex=False))\n",
    "else:\n",
    "    print(\"No data returned from the query.\")\n"
   ]
  },
  {
   "cell_type": "code",
   "execution_count": 21,
   "id": "d487b77b",
   "metadata": {},
   "outputs": [
    {
     "name": "stdout",
     "output_type": "stream",
     "text": [
      "+---------------+-------------------+------------+\n",
      "|   Provider_ID |   Treatment_Count |   Avg_Cost |\n",
      "|---------------+-------------------+------------|\n",
      "|             1 |             46720 |    29701.8 |\n",
      "|             2 |             46793 |    29642.4 |\n",
      "|             3 |             46412 |    29700   |\n",
      "|             4 |             46719 |    29750   |\n",
      "|             5 |             46635 |    29707.4 |\n",
      "|             6 |             46521 |    29658.9 |\n",
      "|             7 |             46887 |    29715.4 |\n",
      "|             8 |             23313 |    29529.2 |\n",
      "+---------------+-------------------+------------+\n"
     ]
    }
   ],
   "source": [
    "# Total number of treatments and the average treatment cost for each provider\n",
    "query = \"\"\"\n",
    "WITH ProviderTreatmentStats AS (\n",
    "    SELECT Provider_ID, \n",
    "           COUNT(*) AS Treatment_Count, \n",
    "           AVG(Cost) AS Avg_Cost\n",
    "    FROM TREATMENT\n",
    "    GROUP BY Provider_ID\n",
    ")\n",
    "SELECT * FROM ProviderTreatmentStats;\n",
    "\"\"\"\n",
    "df = pd.read_sql_query(query, conn)\n",
    "\n",
    "# Display the result as a nicely formatted table\n",
    "if not df.empty:\n",
    "    print(tabulate(df, headers='keys', tablefmt='psql', showindex=False))\n",
    "else:\n",
    "    print(\"No data returned from the query.\")\n"
   ]
  },
  {
   "cell_type": "code",
   "execution_count": 22,
   "id": "a1f82d8f",
   "metadata": {},
   "outputs": [
    {
     "name": "stdout",
     "output_type": "stream",
     "text": [
      "+--------+---------+------------------+\n",
      "|   Year |   Month | Total_Cost       |\n",
      "|--------+---------+------------------|\n",
      "|   2024 |      01 | 1,255,075,684.23 |\n",
      "|   2024 |      02 | 1,650,916,170.90 |\n",
      "|   2024 |      03 | 1,761,377,780.18 |\n",
      "|   2024 |      04 | 1,710,797,772.09 |\n",
      "|   2024 |      05 | 1,765,416,041.55 |\n",
      "|   2024 |      06 | 1,709,016,071.31 |\n",
      "|   2024 |      07 | 537,295,281.94   |\n",
      "+--------+---------+------------------+\n"
     ]
    }
   ],
   "source": [
    "# Calculate total cost per month for 2024 and 2025\n",
    "query = \"\"\"\n",
    "WITH MonthlyCost AS (\n",
    "    SELECT \n",
    "        strftime('%Y', Outcome_Date) AS Year,\n",
    "        strftime('%m', Outcome_Date) AS Month,\n",
    "        SUM(Cost) AS Total_Cost\n",
    "    FROM TREATMENT\n",
    "    WHERE Year IN ('2024', '2025')\n",
    "    GROUP BY Year, Month\n",
    "    ORDER BY Year, Month\n",
    ")\n",
    "SELECT * FROM MonthlyCost;\n",
    "\"\"\"\n",
    "\n",
    "df = pd.read_sql_query(query, conn)\n",
    "\n",
    "# Format the Total_Cost column to show full precision with commas\n",
    "df['Total_Cost'] = df['Total_Cost'].apply(lambda x: '{:,.2f}'.format(x))\n",
    "\n",
    "# Display the result\n",
    "if not df.empty:\n",
    "    print(tabulate(df, headers='keys', tablefmt='psql', showindex=False))\n",
    "else:\n",
    "    print(\"No data returned from the query.\")\n"
   ]
  },
  {
   "cell_type": "code",
   "execution_count": 29,
   "id": "0c9921dc",
   "metadata": {},
   "outputs": [
    {
     "name": "stdout",
     "output_type": "stream",
     "text": [
      "+----------------------------+\n",
      "|   doctors_changed_hospital |\n",
      "|----------------------------|\n",
      "|                          2 |\n",
      "+----------------------------+\n"
     ]
    }
   ],
   "source": [
    "\n",
    "# How many doctors have changed their affiliated hospital in the last 6 months\n",
    "query = \"\"\"\n",
    "SELECT COUNT(DISTINCT p.Provider_ID) AS doctors_changed_hospital\n",
    "FROM (\n",
    "    SELECT Provider_ID\n",
    "    FROM PROVIDER\n",
    "    GROUP BY Provider_ID\n",
    "    HAVING COUNT(DISTINCT Affiliated_Hospital) > 1\n",
    ") AS changed_providers\n",
    "JOIN PROVIDER p ON changed_providers.Provider_ID = p.Provider_ID\n",
    "WHERE p.Valid_From >= date('now', '-6 months');\n",
    "\"\"\"\n",
    "\n",
    "df = pd.read_sql_query(query, conn)\n",
    "\n",
    "# Display the result as a nicely formatted table\n",
    "if not df.empty:\n",
    "    print(tabulate(df, headers='keys', tablefmt='psql', showindex=False))\n",
    "else:\n",
    "    print(\"No data returned from the query.\")\n"
   ]
  },
  {
   "cell_type": "code",
   "execution_count": 30,
   "id": "db9636c0",
   "metadata": {},
   "outputs": [
    {
     "name": "stdout",
     "output_type": "stream",
     "text": [
      "+---------------+--------------+-------------+\n",
      "|   Provider_ID | First_Name   | Last_Name   |\n",
      "|---------------+--------------+-------------|\n",
      "|             1 | Nandini      | Srivastava  |\n",
      "|             8 | Sarika       | Zutshi      |\n",
      "+---------------+--------------+-------------+\n"
     ]
    }
   ],
   "source": [
    "\n",
    "# Details of doctors have changed their affiliated hospital in the last 6 months\n",
    "query = \"\"\"\n",
    "SELECT DISTINCT p.Provider_ID, p.First_Name, p.Last_Name\n",
    "FROM (\n",
    "    SELECT Provider_ID\n",
    "    FROM PROVIDER\n",
    "    GROUP BY Provider_ID\n",
    "    HAVING COUNT(DISTINCT Affiliated_Hospital) > 1\n",
    ") AS changed_providers\n",
    "JOIN PROVIDER p ON changed_providers.Provider_ID = p.Provider_ID\n",
    "WHERE p.Valid_From >= date('now', '-6 months');\n",
    "\"\"\"\n",
    "\n",
    "df = pd.read_sql_query(query, conn)\n",
    "\n",
    "# Display the result as a nicely formatted table\n",
    "if not df.empty:\n",
    "    print(tabulate(df, headers='keys', tablefmt='psql', showindex=False))\n",
    "else:\n",
    "    print(\"No data returned from the query.\")\n"
   ]
  },
  {
   "cell_type": "code",
   "execution_count": 35,
   "id": "5a16577d",
   "metadata": {},
   "outputs": [],
   "source": [
    "conn.close()  # Close the connection after all queries are done"
   ]
  }
 ],
 "metadata": {
  "kernelspec": {
   "display_name": "Python 3",
   "language": "python",
   "name": "python3"
  },
  "language_info": {
   "codemirror_mode": {
    "name": "ipython",
    "version": 3
   },
   "file_extension": ".py",
   "mimetype": "text/x-python",
   "name": "python",
   "nbconvert_exporter": "python",
   "pygments_lexer": "ipython3",
   "version": "3.12.4"
  }
 },
 "nbformat": 4,
 "nbformat_minor": 5
}
